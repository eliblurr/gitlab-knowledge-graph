{
 "cells": [
  {
   "cell_type": "markdown",
   "metadata": {},
   "source": [
    "<h1 style=\"color:#181818; font-weight:900; font-size: 1.2em\">DEPENDENCY INSTALLATION</h1>"
   ]
  },
  {
   "cell_type": "code",
   "execution_count": 1,
   "metadata": {},
   "outputs": [
    {
     "name": "stdout",
     "output_type": "stream",
     "text": [
      "Requirement already satisfied: pip in /Users/elvissegbawu/Development/turntabl/migration/gitlab-knowledge-graph/venv/lib/python3.10/site-packages (23.2.1)\n",
      "Note: you may need to restart the kernel to use updated packages.\n",
      "Requirement already satisfied: python-gitlab in /Users/elvissegbawu/Development/turntabl/migration/gitlab-knowledge-graph/venv/lib/python3.10/site-packages (3.15.0)\n",
      "Requirement already satisfied: requests>=2.25.0 in /Users/elvissegbawu/Development/turntabl/migration/gitlab-knowledge-graph/venv/lib/python3.10/site-packages (from python-gitlab) (2.31.0)\n",
      "Requirement already satisfied: requests-toolbelt>=0.10.1 in /Users/elvissegbawu/Development/turntabl/migration/gitlab-knowledge-graph/venv/lib/python3.10/site-packages (from python-gitlab) (1.0.0)\n",
      "Requirement already satisfied: charset-normalizer<4,>=2 in /Users/elvissegbawu/Development/turntabl/migration/gitlab-knowledge-graph/venv/lib/python3.10/site-packages (from requests>=2.25.0->python-gitlab) (3.2.0)\n",
      "Requirement already satisfied: idna<4,>=2.5 in /Users/elvissegbawu/Development/turntabl/migration/gitlab-knowledge-graph/venv/lib/python3.10/site-packages (from requests>=2.25.0->python-gitlab) (3.4)\n",
      "Requirement already satisfied: urllib3<3,>=1.21.1 in /Users/elvissegbawu/Development/turntabl/migration/gitlab-knowledge-graph/venv/lib/python3.10/site-packages (from requests>=2.25.0->python-gitlab) (2.0.4)\n",
      "Requirement already satisfied: certifi>=2017.4.17 in /Users/elvissegbawu/Development/turntabl/migration/gitlab-knowledge-graph/venv/lib/python3.10/site-packages (from requests>=2.25.0->python-gitlab) (2023.7.22)\n",
      "Note: you may need to restart the kernel to use updated packages.\n",
      "Requirement already satisfied: python-dotenv in /Users/elvissegbawu/Development/turntabl/migration/gitlab-knowledge-graph/venv/lib/python3.10/site-packages (1.0.0)\n",
      "Note: you may need to restart the kernel to use updated packages.\n",
      "Requirement already satisfied: pyvis in /Users/elvissegbawu/Development/turntabl/migration/gitlab-knowledge-graph/venv/lib/python3.10/site-packages (0.3.2)\n",
      "Requirement already satisfied: ipython>=5.3.0 in /Users/elvissegbawu/Development/turntabl/migration/gitlab-knowledge-graph/venv/lib/python3.10/site-packages (from pyvis) (8.15.0)\n",
      "Requirement already satisfied: jinja2>=2.9.6 in /Users/elvissegbawu/Development/turntabl/migration/gitlab-knowledge-graph/venv/lib/python3.10/site-packages (from pyvis) (3.1.2)\n",
      "Requirement already satisfied: jsonpickle>=1.4.1 in /Users/elvissegbawu/Development/turntabl/migration/gitlab-knowledge-graph/venv/lib/python3.10/site-packages (from pyvis) (3.0.2)\n",
      "Requirement already satisfied: networkx>=1.11 in /Users/elvissegbawu/Development/turntabl/migration/gitlab-knowledge-graph/venv/lib/python3.10/site-packages (from pyvis) (3.1)\n",
      "Requirement already satisfied: backcall in /Users/elvissegbawu/Development/turntabl/migration/gitlab-knowledge-graph/venv/lib/python3.10/site-packages (from ipython>=5.3.0->pyvis) (0.2.0)\n",
      "Requirement already satisfied: decorator in /Users/elvissegbawu/Development/turntabl/migration/gitlab-knowledge-graph/venv/lib/python3.10/site-packages (from ipython>=5.3.0->pyvis) (5.1.1)\n",
      "Requirement already satisfied: jedi>=0.16 in /Users/elvissegbawu/Development/turntabl/migration/gitlab-knowledge-graph/venv/lib/python3.10/site-packages (from ipython>=5.3.0->pyvis) (0.19.0)\n",
      "Requirement already satisfied: matplotlib-inline in /Users/elvissegbawu/Development/turntabl/migration/gitlab-knowledge-graph/venv/lib/python3.10/site-packages (from ipython>=5.3.0->pyvis) (0.1.6)\n",
      "Requirement already satisfied: pickleshare in /Users/elvissegbawu/Development/turntabl/migration/gitlab-knowledge-graph/venv/lib/python3.10/site-packages (from ipython>=5.3.0->pyvis) (0.7.5)\n",
      "Requirement already satisfied: prompt-toolkit!=3.0.37,<3.1.0,>=3.0.30 in /Users/elvissegbawu/Development/turntabl/migration/gitlab-knowledge-graph/venv/lib/python3.10/site-packages (from ipython>=5.3.0->pyvis) (3.0.39)\n",
      "Requirement already satisfied: pygments>=2.4.0 in /Users/elvissegbawu/Development/turntabl/migration/gitlab-knowledge-graph/venv/lib/python3.10/site-packages (from ipython>=5.3.0->pyvis) (2.16.1)\n",
      "Requirement already satisfied: stack-data in /Users/elvissegbawu/Development/turntabl/migration/gitlab-knowledge-graph/venv/lib/python3.10/site-packages (from ipython>=5.3.0->pyvis) (0.6.2)\n",
      "Requirement already satisfied: traitlets>=5 in /Users/elvissegbawu/Development/turntabl/migration/gitlab-knowledge-graph/venv/lib/python3.10/site-packages (from ipython>=5.3.0->pyvis) (5.9.0)\n",
      "Requirement already satisfied: exceptiongroup in /Users/elvissegbawu/Development/turntabl/migration/gitlab-knowledge-graph/venv/lib/python3.10/site-packages (from ipython>=5.3.0->pyvis) (1.1.3)\n",
      "Requirement already satisfied: pexpect>4.3 in /Users/elvissegbawu/Development/turntabl/migration/gitlab-knowledge-graph/venv/lib/python3.10/site-packages (from ipython>=5.3.0->pyvis) (4.8.0)\n",
      "Requirement already satisfied: appnope in /Users/elvissegbawu/Development/turntabl/migration/gitlab-knowledge-graph/venv/lib/python3.10/site-packages (from ipython>=5.3.0->pyvis) (0.1.3)\n",
      "Requirement already satisfied: MarkupSafe>=2.0 in /Users/elvissegbawu/Development/turntabl/migration/gitlab-knowledge-graph/venv/lib/python3.10/site-packages (from jinja2>=2.9.6->pyvis) (2.1.3)\n",
      "Requirement already satisfied: parso<0.9.0,>=0.8.3 in /Users/elvissegbawu/Development/turntabl/migration/gitlab-knowledge-graph/venv/lib/python3.10/site-packages (from jedi>=0.16->ipython>=5.3.0->pyvis) (0.8.3)\n",
      "Requirement already satisfied: ptyprocess>=0.5 in /Users/elvissegbawu/Development/turntabl/migration/gitlab-knowledge-graph/venv/lib/python3.10/site-packages (from pexpect>4.3->ipython>=5.3.0->pyvis) (0.7.0)\n",
      "Requirement already satisfied: wcwidth in /Users/elvissegbawu/Development/turntabl/migration/gitlab-knowledge-graph/venv/lib/python3.10/site-packages (from prompt-toolkit!=3.0.37,<3.1.0,>=3.0.30->ipython>=5.3.0->pyvis) (0.2.6)\n",
      "Requirement already satisfied: executing>=1.2.0 in /Users/elvissegbawu/Development/turntabl/migration/gitlab-knowledge-graph/venv/lib/python3.10/site-packages (from stack-data->ipython>=5.3.0->pyvis) (1.2.0)\n",
      "Requirement already satisfied: asttokens>=2.1.0 in /Users/elvissegbawu/Development/turntabl/migration/gitlab-knowledge-graph/venv/lib/python3.10/site-packages (from stack-data->ipython>=5.3.0->pyvis) (2.4.0)\n",
      "Requirement already satisfied: pure-eval in /Users/elvissegbawu/Development/turntabl/migration/gitlab-knowledge-graph/venv/lib/python3.10/site-packages (from stack-data->ipython>=5.3.0->pyvis) (0.2.2)\n",
      "Requirement already satisfied: six>=1.12.0 in /Users/elvissegbawu/Development/turntabl/migration/gitlab-knowledge-graph/venv/lib/python3.10/site-packages (from asttokens>=2.1.0->stack-data->ipython>=5.3.0->pyvis) (1.16.0)\n",
      "Note: you may need to restart the kernel to use updated packages.\n"
     ]
    }
   ],
   "source": [
    "%pip install --upgrade pip\n",
    "%pip install python-gitlab\n",
    "%pip install python-dotenv\n",
    "%pip install pyvis"
   ]
  },
  {
   "cell_type": "markdown",
   "metadata": {},
   "source": [
    "<h1 style=\"color:#181818; font-weight:900; font-size: 1.2em\">GET NUMBER OF DEPENDENCIES INSTALLED <em style=\"color:#181800; font-weight:900; font-size: 0.6em\">NOT REQUIRED</em></h1>"
   ]
  },
  {
   "cell_type": "code",
   "execution_count": 2,
   "metadata": {},
   "outputs": [
    {
     "name": "stdout",
     "output_type": "stream",
     "text": [
      "      45\n"
     ]
    }
   ],
   "source": [
    "!pip freeze | wc -l"
   ]
  },
  {
   "cell_type": "markdown",
   "metadata": {},
   "source": [
    "<h1 style=\"color:#181818; font-weight:900; font-size: 1.2em\">IMPORT DEPENDENCIES</h1>"
   ]
  },
  {
   "cell_type": "code",
   "execution_count": 3,
   "metadata": {},
   "outputs": [],
   "source": [
    "import os\n",
    "import re\n",
    "import json\n",
    "import copy\n",
    "import dotenv\n",
    "import gitlab\n",
    "from typing import Union\n",
    "from pyvis.network import Network"
   ]
  },
  {
   "cell_type": "markdown",
   "metadata": {},
   "source": [
    "<h1 style=\"color:#181818; font-weight:900; font-size: 1.2em\">LOAD ENVIRONMENT AND GET ENVIRONMENT VARIABLES</h1>"
   ]
  },
  {
   "cell_type": "code",
   "execution_count": 4,
   "metadata": {},
   "outputs": [],
   "source": [
    "dotenv.load_dotenv()\n",
    "READ_AUTH_KEY = os.getenv(\"READ_AUTH_KEY\")\n",
    "HOST = \"https://gitlab.turntabl.net\""
   ]
  },
  {
   "cell_type": "markdown",
   "metadata": {},
   "source": [
    "<h1 style=\"color:#181818; font-weight:900; font-size: 1.2em\">UTILITY METHODS</h1>"
   ]
  },
  {
   "cell_type": "code",
   "execution_count": 5,
   "metadata": {},
   "outputs": [],
   "source": [
    "def remove_duplicates_from_list_of_dict(dict_list: list, key:str) -> list:\n",
    "    return list({item[key]:item for item in dict_list}.values())\n",
    "    \n",
    "def remove_duplicates_from_list_of_list(list_lists:list):\n",
    "    seen = set()\n",
    "    return [x for x in list_lists if tuple(x) not in seen and not seen.add(tuple(x))]\n",
    "\n",
    "    # # Convert the list of dictionaries to a list of frozensets\n",
    "    # unique_set = set(frozenset(list_lists))\n",
    "    \n",
    "    # # Convert the unique set back to a list of dictionaries and return\n",
    "    # return [dict(fs) for fs in unique_set]\n",
    "\n",
    "def extract_keys_and_values(dict_list: list):\n",
    "    # Assuming all dictionaries have the same keys\n",
    "    keys = dict_list[0].keys()\n",
    "    return { key: [item[key] for item in dict_list] for key in keys }\n",
    "\n",
    "def generate_id(_Type, _Id):\n",
    "    return str(_Type)+'.'+str(_Id)"
   ]
  },
  {
   "cell_type": "markdown",
   "metadata": {},
   "source": [
    "<h1 style=\"color:#181818; font-weight:900; font-size: 1.2em\">JSON FILE I/O OPERATIONS </h1>"
   ]
  },
  {
   "cell_type": "code",
   "execution_count": 15,
   "metadata": {},
   "outputs": [],
   "source": [
    "def read_json_file_to_obj(file_path:str) -> dict:\n",
    "    try:\n",
    "        with open(file_path, \"r\") as f:\n",
    "            data = json.load(f)\n",
    "            return data\n",
    "    except Exception as e:\n",
    "        print(f'{e.__class__.__name__}: {e}')\n",
    "\n",
    "def write_obj_to_json_file(file_path:str, data:dict):\n",
    "    try:\n",
    "        with open(file_path, \"w\") as f:\n",
    "            json.dump(data, f)\n",
    "    except Exception as e:\n",
    "        print(f'{e.__class__.__name__}: {e}')\n",
    "\n",
    "def update_json_graph_data(file_path:str, nodes:list=[], relationships:list=[]):\n",
    "    '''\n",
    "        This method updates keeping old changes or completely overwrites file.\n",
    "        data_obj argument must follow the format {\"nodes\":[], \"relationships\":[]} to yield output'''\n",
    "\n",
    "    data = {\n",
    "        \"nodes\": nodes, \n",
    "        \"relationships\": relationships\n",
    "    }\n",
    "    \n",
    "    f_data = read_json_file_to_obj(file_path)\n",
    "\n",
    "    if f_data:\n",
    "        data.get(\"nodes\",[]).extend(f_data.get(\"nodes\",[]))\n",
    "        data.get(\"relationships\",[]).extend(f_data.get(\"relationships\",[]))\n",
    "\n",
    "        # remove duplicates\n",
    "        data[\"nodes\"] = remove_duplicates_from_list_of_dict(data[\"nodes\"], \"id\")\n",
    "        # data[\"relationships\"] = remove_duplicates_from_list_of_list(data[\"relationships\"])\n",
    "        \n",
    "    return data"
   ]
  },
  {
   "cell_type": "markdown",
   "metadata": {},
   "source": [
    "<h1 style=\"color:#181818; font-weight:900; font-size: 1.2em\">OBJECT TO JSON MAPPING OPERATIONS</h1>"
   ]
  },
  {
   "cell_type": "code",
   "execution_count": 7,
   "metadata": {},
   "outputs": [],
   "source": [
    "def get_schema_path_properties(schema_path: str, schema_file_path: str = \"../databox/graph.schema.json\") -> dict:\n",
    "    '''\n",
    "        schema_path(Object Type) should follow the format -> parent.n_child.n-1_child...n-n_child \n",
    "        .e.g. nodes.[Type], relationships.[Type]\n",
    "        schema_path value is case sensitive\n",
    "        returns schema_path_properties'''\n",
    "    \n",
    "    schema_path+=\".properties\"\n",
    "    res = read_json_file_to_obj(schema_file_path) # pass as variable\n",
    "    \n",
    "    for path in schema_path.split('.'):\n",
    "        if isinstance(res, list):break\n",
    "        res = res.get(path, [])\n",
    "\n",
    "    return { k:None for k in  res} \n",
    "\n",
    "def map_obj_to_json_schema(obj:object, schema_path_properties: dict, **extra_props) -> dict:\n",
    "    '''\n",
    "        obj is the object to read values from.\n",
    "        schema_path_properties is a dict with keys we want to set.\n",
    "        to assign custom values to keys schema_path_properties dict set the keys\n",
    "            of the said custom values as value to the assoiciated key in schema_path_properties dict.'''\n",
    "\n",
    "    obj_dict = obj.__dict__['_attrs'] if '_attrs' in obj.__dict__.keys() else obj.__dict__\n",
    "    schema_path_properties_copy = copy.copy(schema_path_properties) # re-assign as python uses a mechanism called \"call by object reference\" or \"call by assignment.\"\n",
    "    \n",
    "    for k,v in schema_path_properties_copy.items():\n",
    "        schema_path_properties_copy[k] = obj_dict.get(k, '') if v==None else obj_dict.get(v[1:], '') if str(v).startswith('$') else v\n",
    "\n",
    "    return {**schema_path_properties_copy, **extra_props}"
   ]
  },
  {
   "cell_type": "markdown",
   "metadata": {},
   "source": [
    "<h1 style=\"color:#181818; font-weight:900; font-size: 1.2em\">GET DATA FROM REMOTE DATA SOURCE</h1>"
   ]
  },
  {
   "cell_type": "code",
   "execution_count": null,
   "metadata": {},
   "outputs": [],
   "source": [
    "gl = gitlab.Gitlab(url=HOST, private_token=READ_AUTH_KEY, api_version=4, ssl_verify=False)\n",
    "\n",
    "# fetch groups\n",
    "groups = gl.groups.list(get_all=True)\n",
    "\n",
    "# fetch users\n",
    "users = gl.users.list(get_all=True)\n",
    "\n",
    "# groups users relationship\n",
    "groups_users = []\n",
    "for group in groups:\n",
    "    groups_users.append({ 'from_id': generate_id('nodes.Group', group.id),'to_ids': [generate_id('nodes.User', user.id) for user in group.members.list(get_all=True)], 'rel_obj': group })"
   ]
  },
  {
   "cell_type": "markdown",
   "metadata": {},
   "source": [
    "<h1 style=\"color:#181818; font-weight:900; font-size: 1.2em\">GRAPH PLOT OPERATIONS</h1>"
   ]
  },
  {
   "cell_type": "code",
   "execution_count": 9,
   "metadata": {},
   "outputs": [],
   "source": [
    "def create_graph_nodes(network, ids:list, labels:list, titles:list,  color, size, shape='circle', **options):\n",
    "    try:\n",
    "        network.add_nodes(ids, label=labels, color=[color]*len(ids), size=[size]*len(ids), title=titles, **options)\n",
    "    except Exception as e:\n",
    "        print(f\"{e.__class__.__name__}: {e}\")\n",
    "\n",
    "def create_graph_edges(network, edges:list, weight=5.87, color=None):\n",
    "    try:\n",
    "        for edge in edges:\n",
    "            network.add_edge(edge[0], edge[1], value=10, title=edge[2], **edge[3])\n",
    "    except Exception as e:\n",
    "        print(f\"{e.__class__.__name__}: {e}\")"
   ]
  },
  {
   "cell_type": "markdown",
   "metadata": {},
   "source": [
    "<h1 style=\"color:#181818; font-weight:900; font-size: 1.2em\">VISUALISE GRAPH</h1>"
   ]
  },
  {
   "cell_type": "code",
   "execution_count": 10,
   "metadata": {},
   "outputs": [],
   "source": [
    "def show_graph(network, name='../graphs/nx2.html'):   \n",
    "    network.show(name)"
   ]
  },
  {
   "cell_type": "markdown",
   "metadata": {},
   "source": [
    "<h1 style=\"color:#181818; font-weight:900; font-size: 1.2em\">QUERY GRAPH DATA</h1>"
   ]
  },
  {
   "cell_type": "code",
   "execution_count": 11,
   "metadata": {},
   "outputs": [],
   "source": [
    "# tba"
   ]
  },
  {
   "cell_type": "markdown",
   "metadata": {},
   "source": [
    "<h1 style=\"color:#181800; font-weight:900; font-size: 1.2em\">SANDBOX</h1>"
   ]
  },
  {
   "cell_type": "code",
   "execution_count": 20,
   "metadata": {},
   "outputs": [
    {
     "name": "stdout",
     "output_type": "stream",
     "text": [
      "{'name': None}\n",
      "IndexError: list index out of range\n",
      "../graphs/nx2.html\n"
     ]
    }
   ],
   "source": [
    "'''\n",
    "Node Operations\n",
    "'''\n",
    "\n",
    "# get graph.nodes schemas for specific types\n",
    "user_props = get_schema_path_properties('nodes.User')\n",
    "group_props = get_schema_path_properties('nodes.Group')\n",
    "\n",
    "# generate list of graph.nodes data per type [set node ID here]\n",
    "users_data = [ map_obj_to_json_schema(user, user_props, node_id=generate_id('nodes.User', user.id)) for user in users ]\n",
    "groups_data = [ map_obj_to_json_schema(group, group_props, node_id=generate_id('nodes.Group', group.id)) for group in groups ]\n",
    "\n",
    "# get updated list of nodes and relationships \n",
    "data_obj = update_json_graph_data(\"../databox/graph.data.json\", [*users_data, *groups_data])\n",
    "\n",
    "# write data to schema \n",
    "write_obj_to_json_file(\"../databox/graph.data.json\", data_obj)\n",
    "\n",
    "# create graph\n",
    "graph_network = Network(height=\"80vh\", width=\"100%\", select_menu=True, filter_menu=True, notebook=True, cdn_resources='in_line')\n",
    "graph_network.inherit_edge_colors(True)\n",
    "\n",
    "# set the physics layout of the network [barnes_hut(), force_atlas_2based(), repulsion(), hrepulsion]\n",
    "graph_network.force_atlas_2based()\n",
    "\n",
    "# create user nodes\n",
    "zipped_users_data = extract_keys_and_values(users_data)\n",
    "create_graph_nodes( network=graph_network, ids=zipped_users_data[\"node_id\"], labels=zipped_users_data[\"username\"], \n",
    "    color='#0fb9b1', size=20, titles=zipped_users_data[\"name\"])\n",
    "\n",
    "# create group nodes\n",
    "zipped_groups_data = extract_keys_and_values(groups_data)\n",
    "create_graph_nodes( network=graph_network, ids=zipped_groups_data[\"node_id\"], labels=zipped_groups_data[\"name\"], \n",
    "    color='#eb4d4b', size=20, titles=zipped_groups_data[\"full_name\"])\n",
    "\n",
    "'''\n",
    "Edge & Relation Operations\n",
    "'''\n",
    "\n",
    "# get graph.relationships schemas for specific types [get props for relation]\n",
    "groups_users_props = get_schema_path_properties('relationships.OWNS')\n",
    "\n",
    "# print(groups_users_props)\n",
    "\n",
    "# generate list of graph.relationships data per type [set node ID here]\n",
    "groups_users_data = []\n",
    "for item in groups_users:  \n",
    "    rel_obj_map = map_obj_to_json_schema(item['rel_obj'], groups_users_props)\n",
    "    for to_id in item['to_ids']: \n",
    "        groups_users_data.append( ( item['from_id'], to_id, 'relationships.OWNS', rel_obj_map ) )\n",
    "\n",
    "# get updated list of nodes and relationships \n",
    "data_obj = update_json_graph_data(\"../databox/graph.data.json\", relationships=groups_users_data)\n",
    "\n",
    "# write data to schema \n",
    "write_obj_to_json_file(\"../databox/graph.data.json\", data_obj)\n",
    "\n",
    "# create edges\n",
    "''' edge format -> (from, to, relation_type, extra_props:dict) .e.g. ('nodes.User.187', 'nodes.Group.1637', 'relationships.BELONGS_TO', {\"key\":\"value\"}) '''\n",
    "# dummy_edges = [\n",
    "#     ('nodes.User.187', 'nodes.Group.1637', 'relationships.BELONGS_TO', {\"key\":\"value\"}),\n",
    "#     ('nodes.User.1', 'nodes.Group.1637', 'relationships.BELONGS_TO', {\"key\":\"value\"})\n",
    "# ]\n",
    "create_graph_edges(graph_network, groups_users_data)\n",
    "\n",
    "# show graph\n",
    "show_graph(graph_network)"
   ]
  }
 ],
 "metadata": {
  "kernelspec": {
   "display_name": "venv",
   "language": "python",
   "name": "python3"
  },
  "language_info": {
   "codemirror_mode": {
    "name": "ipython",
    "version": 3
   },
   "file_extension": ".py",
   "mimetype": "text/x-python",
   "name": "python",
   "nbconvert_exporter": "python",
   "pygments_lexer": "ipython3",
   "version": "3.10.11"
  },
  "orig_nbformat": 4
 },
 "nbformat": 4,
 "nbformat_minor": 2
}
